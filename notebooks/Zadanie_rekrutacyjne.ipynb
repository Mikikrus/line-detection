{
 "cells": [
  {
   "cell_type": "code",
   "execution_count": 1,
   "id": "ed1778f2",
   "metadata": {},
   "outputs": [],
   "source": [
    "import numpy as np\n",
    "import random\n",
    "import cv2\n",
    "from PIL import Image\n",
    "from matplotlib import pyplot as plt"
   ]
  },
  {
   "cell_type": "code",
   "execution_count": 2,
   "id": "4bbdb992",
   "metadata": {},
   "outputs": [],
   "source": [
    "import sys; sys.path.insert(0, '..')\n",
    "from src.data.make_dataset import *\n",
    "from src.features.build_features import *\n",
    "from src.models import predict_model, train_model\n",
    "from src.visualization.visualize import *"
   ]
  },
  {
   "cell_type": "code",
   "execution_count": 3,
   "id": "65b92d15",
   "metadata": {},
   "outputs": [],
   "source": [
    "# import os\n",
    "# os.environ[\"CUDA_VISIBLE_DEVICES\"] = \"-1\" # for disabling GPU"
   ]
  },
  {
   "cell_type": "code",
   "execution_count": 4,
   "id": "e3b7f903",
   "metadata": {},
   "outputs": [
    {
     "name": "stdout",
     "output_type": "stream",
     "text": [
      "[name: \"/device:CPU:0\"\n",
      "device_type: \"CPU\"\n",
      "memory_limit: 268435456\n",
      "locality {\n",
      "}\n",
      "incarnation: 14447075629560744285\n",
      "xla_global_id: -1\n",
      ", name: \"/device:GPU:0\"\n",
      "device_type: \"GPU\"\n",
      "memory_limit: 10099490816\n",
      "locality {\n",
      "  bus_id: 1\n",
      "  links {\n",
      "  }\n",
      "}\n",
      "incarnation: 4074387354331319108\n",
      "physical_device_desc: \"device: 0, name: NVIDIA GeForce GTX 1080 Ti, pci bus id: 0000:01:00.0, compute capability: 6.1\"\n",
      "xla_global_id: 416903419\n",
      "]\n"
     ]
    }
   ],
   "source": [
    "from tensorflow.python.client import device_lib\n",
    "print(device_lib.list_local_devices())"
   ]
  },
  {
   "cell_type": "code",
   "execution_count": 5,
   "id": "17de1a9b",
   "metadata": {},
   "outputs": [],
   "source": [
    "random.seed(0)"
   ]
  },
  {
   "cell_type": "code",
   "execution_count": 6,
   "id": "a7ceabe8",
   "metadata": {},
   "outputs": [
    {
     "name": "stdout",
     "output_type": "stream",
     "text": [
      "(50000, 64, 64, 1) (50000, 4)\n"
     ]
    }
   ],
   "source": [
    "X, y = preprocess(generate_dataset(50000))\n",
    "print(X.shape, y.shape)"
   ]
  },
  {
   "cell_type": "code",
   "execution_count": 7,
   "id": "5a3d83e8",
   "metadata": {},
   "outputs": [],
   "source": [
    "from tensorflow import keras"
   ]
  },
  {
   "cell_type": "code",
   "execution_count": 8,
   "id": "6782c25d",
   "metadata": {},
   "outputs": [
    {
     "name": "stdout",
     "output_type": "stream",
     "text": [
      "Model: \"sequential\"\n",
      "_________________________________________________________________\n",
      " Layer (type)                Output Shape              Param #   \n",
      "=================================================================\n",
      " conv2d (Conv2D)             (None, 62, 62, 32)        320       \n",
      "                                                                 \n",
      " average_pooling2d (AverageP  (None, 31, 31, 32)       0         \n",
      " ooling2D)                                                       \n",
      "                                                                 \n",
      " conv2d_1 (Conv2D)           (None, 29, 29, 64)        18496     \n",
      "                                                                 \n",
      " average_pooling2d_1 (Averag  (None, 14, 14, 64)       0         \n",
      " ePooling2D)                                                     \n",
      "                                                                 \n",
      " flatten (Flatten)           (None, 12544)             0         \n",
      "                                                                 \n",
      " dense (Dense)               (None, 128)               1605760   \n",
      "                                                                 \n",
      " dense_1 (Dense)             (None, 4)                 516       \n",
      "                                                                 \n",
      "=================================================================\n",
      "Total params: 1,625,092\n",
      "Trainable params: 1,625,092\n",
      "Non-trainable params: 0\n",
      "_________________________________________________________________\n"
     ]
    }
   ],
   "source": [
    "model = train_model.make_model()\n",
    "model.summary()"
   ]
  },
  {
   "cell_type": "code",
   "execution_count": null,
   "id": "ae100eb9",
   "metadata": {},
   "outputs": [
    {
     "name": "stdout",
     "output_type": "stream",
     "text": [
      "Epoch 1/100\n",
      "157/157 [==============================] - 8s 19ms/step - loss: 0.1777 - val_loss: 0.1636\n",
      "Epoch 2/100\n",
      "157/157 [==============================] - 3s 17ms/step - loss: 0.0937 - val_loss: 0.0763\n",
      "Epoch 3/100\n",
      "157/157 [==============================] - 3s 17ms/step - loss: 0.0630 - val_loss: 0.0490\n",
      "Epoch 4/100\n",
      "157/157 [==============================] - 3s 18ms/step - loss: 0.0490 - val_loss: 0.0396\n",
      "Epoch 5/100\n",
      "157/157 [==============================] - 3s 17ms/step - loss: 0.0412 - val_loss: 0.0373\n",
      "Epoch 6/100\n",
      "157/157 [==============================] - 3s 18ms/step - loss: 0.0411 - val_loss: 0.0332\n",
      "Epoch 7/100\n",
      "157/157 [==============================] - 3s 18ms/step - loss: 0.0346 - val_loss: 0.0419\n",
      "Epoch 8/100\n",
      "157/157 [==============================] - 2s 16ms/step - loss: 0.0979 - val_loss: 0.0656\n",
      "Epoch 9/100\n",
      "157/157 [==============================] - 2s 16ms/step - loss: 0.0428 - val_loss: 0.0339\n",
      "Epoch 10/100\n",
      "157/157 [==============================] - 3s 17ms/step - loss: 0.0289 - val_loss: 0.0268\n",
      "Epoch 11/100\n",
      "157/157 [==============================] - 2s 16ms/step - loss: 0.0326 - val_loss: 0.0278\n",
      "Epoch 12/100\n",
      "157/157 [==============================] - 2s 16ms/step - loss: 0.0370 - val_loss: 0.0257\n",
      "Epoch 13/100\n",
      "157/157 [==============================] - 3s 16ms/step - loss: 0.0242 - val_loss: 0.0228\n",
      "Epoch 14/100\n",
      "157/157 [==============================] - 3s 16ms/step - loss: 0.0220 - val_loss: 0.0222\n",
      "Epoch 15/100\n",
      "157/157 [==============================] - 2s 16ms/step - loss: 0.0274 - val_loss: 0.0226\n",
      "Epoch 16/100\n",
      "157/157 [==============================] - 2s 16ms/step - loss: 0.0412 - val_loss: 0.0324\n",
      "Epoch 17/100\n",
      "157/157 [==============================] - 2s 16ms/step - loss: 0.0340 - val_loss: 0.0907\n",
      "Epoch 18/100\n",
      "157/157 [==============================] - 2s 16ms/step - loss: 0.0393 - val_loss: 0.0249\n",
      "Epoch 19/100\n",
      "157/157 [==============================] - 2s 16ms/step - loss: 0.0254 - val_loss: 0.0220\n",
      "Epoch 20/100\n",
      "157/157 [==============================] - 2s 16ms/step - loss: 0.0238 - val_loss: 0.0209\n",
      "Epoch 21/100\n",
      "157/157 [==============================] - 2s 16ms/step - loss: 0.0355 - val_loss: 0.0256\n",
      "Epoch 22/100\n",
      "157/157 [==============================] - 3s 17ms/step - loss: 0.0217 - val_loss: 0.0360\n",
      "Epoch 23/100\n",
      "157/157 [==============================] - 2s 16ms/step - loss: 0.0232 - val_loss: 0.0208\n",
      "Epoch 24/100\n",
      "157/157 [==============================] - 3s 17ms/step - loss: 0.0187 - val_loss: 0.0195\n",
      "Epoch 25/100\n",
      "157/157 [==============================] - 2s 16ms/step - loss: 0.0241 - val_loss: 0.0205\n",
      "Epoch 26/100\n",
      "157/157 [==============================] - 2s 16ms/step - loss: 0.0189 - val_loss: 0.0189\n",
      "Epoch 27/100\n",
      "157/157 [==============================] - 3s 16ms/step - loss: 0.0286 - val_loss: 0.0234\n",
      "Epoch 28/100\n",
      "157/157 [==============================] - 3s 17ms/step - loss: 0.0200 - val_loss: 0.0194\n",
      "Epoch 29/100\n",
      "157/157 [==============================] - 3s 16ms/step - loss: 0.0191 - val_loss: 0.0213\n",
      "Epoch 30/100\n",
      "157/157 [==============================] - 3s 18ms/step - loss: 0.0181 - val_loss: 0.0185\n",
      "Epoch 31/100\n",
      "157/157 [==============================] - 3s 17ms/step - loss: 0.0176 - val_loss: 0.0357\n",
      "Epoch 32/100\n",
      "149/157 [===========================>..] - ETA: 0s - loss: 0.0200"
     ]
    }
   ],
   "source": [
    "model, history = train_model.compile_and_train(model, X, y)"
   ]
  },
  {
   "cell_type": "code",
   "execution_count": null,
   "id": "1ffcc3f4",
   "metadata": {},
   "outputs": [],
   "source": [
    "show_training_history(history)"
   ]
  },
  {
   "cell_type": "code",
   "execution_count": null,
   "id": "250ed50a",
   "metadata": {},
   "outputs": [],
   "source": [
    "eval_X, eval_y = preprocess(generate_dataset(10000))\n",
    "model.evaluate(eval_X, eval_y)"
   ]
  },
  {
   "cell_type": "code",
   "execution_count": null,
   "id": "53527d35",
   "metadata": {},
   "outputs": [],
   "source": [
    "show_examples(model, 6)"
   ]
  },
  {
   "cell_type": "code",
   "execution_count": null,
   "id": "7acf94c9",
   "metadata": {},
   "outputs": [],
   "source": [
    "# model.save('saved_models/mae_cnv32_avg_cnv64_avg_dns128_0_0060')"
   ]
  },
  {
   "cell_type": "code",
   "execution_count": null,
   "id": "507357fc",
   "metadata": {},
   "outputs": [],
   "source": [
    "test = keras.models.load_model('../models/mae_cnv32_avg_cnv64_avg_dns128_0_0060')\n",
    "test.summary()"
   ]
  },
  {
   "cell_type": "code",
   "execution_count": 15,
   "id": "bc79f473",
   "metadata": {},
   "outputs": [
    {
     "name": "stdout",
     "output_type": "stream",
     "text": [
      "313/313 [==============================] - 1s 2ms/step - loss: 0.0056\n"
     ]
    },
    {
     "data": {
      "text/plain": [
       "0.005645968951284885"
      ]
     },
     "execution_count": 15,
     "metadata": {},
     "output_type": "execute_result"
    }
   ],
   "source": [
    "eval_X, eval_y = preprocess(generate_dataset(10000))\n",
    "test.evaluate(eval_X, eval_y)"
   ]
  },
  {
   "cell_type": "code",
   "execution_count": 16,
   "id": "c3bdd8ed",
   "metadata": {},
   "outputs": [
    {
     "data": {
      "image/png": "[encoded data removed]",
      "text/plain": [
       "<Figure size 1080x1080 with 64 Axes>"
      ]
     },
     "metadata": {
      "needs_background": "light"
     },
     "output_type": "display_data"
    }
   ],
   "source": [
    "show_examples(test, 8)"
   ]
  }
 ],
 "metadata": {
  "kernelspec": {
   "display_name": "Python 3",
   "language": "python",
   "name": "python3"
  },
  "language_info": {
   "codemirror_mode": {
    "name": "ipython",
    "version": 3
   },
   "file_extension": ".py",
   "mimetype": "text/x-python",
   "name": "python",
   "nbconvert_exporter": "python",
   "pygments_lexer": "ipython3",
   "version": "3.7.6"
  },
  "toc": {
   "base_numbering": 1,
   "nav_menu": {},
   "number_sections": true,
   "sideBar": true,
   "skip_h1_title": false,
   "title_cell": "Table of Contents",
   "title_sidebar": "Contents",
   "toc_cell": false,
   "toc_position": {},
   "toc_section_display": true,
   "toc_window_display": false
  }
 },
 "nbformat": 4,
 "nbformat_minor": 5
}
